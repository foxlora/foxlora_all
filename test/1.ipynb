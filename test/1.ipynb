{
 "cells": [
  {
   "cell_type": "code",
   "execution_count": 1,
   "outputs": [],
   "source": [
    "class EventHandler:\n",
    "    def fileno(self):\n",
    "        'Return the associated file descriptor'\n",
    "        raise NotImplemented('must implement')\n",
    "\n",
    "    def wants_to_receive(self):\n",
    "        'Return True if receiving is allowed'\n",
    "        return False\n",
    "\n",
    "    def handle_receive(self):\n",
    "        'Perform the receive operation'\n",
    "        pass\n",
    "\n",
    "    def wants_to_send(self):\n",
    "        'Return True if sending is requested'\n",
    "        return False\n",
    "\n",
    "    def handle_send(self):\n",
    "        'Send outgoing data'\n",
    "        pass\n",
    "\n"
   ],
   "metadata": {
    "collapsed": false,
    "pycharm": {
     "name": "#%%\n",
     "is_executing": false
    }
   }
  },
  {
   "cell_type": "code",
   "execution_count": 3,
   "outputs": [],
   "source": [
    "import select\n",
    "\n",
    "def event_loop(handlers):\n",
    "    while True:\n",
    "        wants_recv = [h for h in handlers if h.wants_to_receive()]\n",
    "        wants_send = [h for h in handlers if h.wants_to_send()]\n",
    "        can_recv, can_send, _ = select.select(wants_recv, wants_send, [])\n",
    "        for h in can_recv:\n",
    "            h.handle_receive()\n",
    "        for h in can_send:\n",
    "            h.handle_send()\n",
    "\n"
   ],
   "metadata": {
    "collapsed": false,
    "pycharm": {
     "name": "#%%\n",
     "is_executing": false
    }
   }
  },
  {
   "cell_type": "code",
   "execution_count": null,
   "outputs": [],
   "source": [
    "#udp\n",
    "import socket\n",
    "import time\n",
    "\n",
    "class UDPServer(EventHandler):\n",
    "    def __init__(self, address):\n",
    "        self.sock = socket.socket(socket.AF_INET, socket.SOCK_DGRAM)\n",
    "        self.sock.bind(address)\n",
    "\n",
    "    def fileno(self):\n",
    "        return self.sock.fileno()\n",
    "\n",
    "    def wants_to_receive(self):\n",
    "        return True\n",
    "\n",
    "class UDPTimeServer(UDPServer):\n",
    "    def handle_receive(self):\n",
    "        msg, addr = self.sock.recvfrom(1)\n",
    "        self.sock.sendto(time.ctime().encode('ascii'), addr)\n",
    "\n",
    "class UDPEchoServer(UDPServer):\n",
    "    def handle_receive(self):\n",
    "        msg, addr = self.sock.recvfrom(8192)\n",
    "        self.sock.sendto(msg, addr)\n",
    "\n",
    "if __name__ == '__main__':\n",
    "    handlers = [ UDPTimeServer(('',14000)), UDPEchoServer(('',15000))  ]\n",
    "    event_loop(handlers)\n",
    "\n"
   ],
   "metadata": {
    "collapsed": false,
    "pycharm": {
     "name": "#%%\n",
     "is_executing": true
    }
   }
  },
  {
   "cell_type": "code",
   "execution_count": null,
   "outputs": [],
   "source": [
    "class TCPServer(EventHandler):\n",
    "    def __init__(self, address, client_handler, handler_list):\n",
    "        self.sock = socket.socket(socket.AF_INET, socket.SOCK_STREAM)\n",
    "        self.sock.setsockopt(socket.SOL_SOCKET, socket.SO_REUSEADDR, True)\n",
    "        self.sock.bind(address)\n",
    "        self.sock.listen(1)\n",
    "        self.client_handler = client_handler\n",
    "        self.handler_list = handler_list\n",
    "\n",
    "    def fileno(self):\n",
    "        return self.sock.fileno()\n",
    "\n",
    "    def wants_to_receive(self):\n",
    "        return True\n",
    "\n",
    "    def handle_receive(self):\n",
    "        client, addr = self.sock.accept()\n",
    "        # Add the client to the event loop's handler list\n",
    "        self.handler_list.append(self.client_handler(client, self.handler_list))\n",
    "\n",
    "class TCPClient(EventHandler):\n",
    "    def __init__(self, sock, handler_list):\n",
    "        self.sock = sock\n",
    "        self.handler_list = handler_list\n",
    "        self.outgoing = bytearray()\n",
    "\n",
    "    def fileno(self):\n",
    "        return self.sock.fileno()\n",
    "\n",
    "    def close(self):\n",
    "        self.sock.close()\n",
    "        # Remove myself from the event loop's handler list\n",
    "        self.handler_list.remove(self)\n",
    "\n",
    "    def wants_to_send(self):\n",
    "        return True if self.outgoing else False\n",
    "\n",
    "    def handle_send(self):\n",
    "        nsent = self.sock.send(self.outgoing)\n",
    "        self.outgoing = self.outgoing[nsent:]\n",
    "\n",
    "class TCPEchoClient(TCPClient):\n",
    "    def wants_to_receive(self):\n",
    "        return True\n",
    "\n",
    "    def handle_receive(self):\n",
    "        data = self.sock.recv(8192)\n",
    "        if not data:\n",
    "            self.close()\n",
    "        else:\n",
    "            self.outgoing.extend(data)\n",
    "\n",
    "if __name__ == '__main__':\n",
    "   handlers = []\n",
    "   handlers.append(TCPServer(('',16000), TCPEchoClient, handlers))\n",
    "   event_loop(handlers)\n",
    "\n"
   ],
   "metadata": {
    "collapsed": false,
    "pycharm": {
     "name": "#%%\n",
     "is_executing": true
    }
   }
  }
 ],
 "metadata": {
  "kernelspec": {
   "display_name": "Python 3",
   "language": "python",
   "name": "python3"
  },
  "language_info": {
   "codemirror_mode": {
    "name": "ipython",
    "version": 2
   },
   "file_extension": ".py",
   "mimetype": "text/x-python",
   "name": "python",
   "nbconvert_exporter": "python",
   "pygments_lexer": "ipython2",
   "version": "2.7.6"
  },
  "pycharm": {
   "stem_cell": {
    "cell_type": "raw",
    "source": [],
    "metadata": {
     "collapsed": false
    }
   }
  }
 },
 "nbformat": 4,
 "nbformat_minor": 0
}