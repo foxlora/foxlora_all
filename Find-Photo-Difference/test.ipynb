{
 "cells": [
  {
   "cell_type": "code",
   "execution_count": 89,
   "metadata": {
    "collapsed": true,
    "pycharm": {
     "is_executing": false
    }
   },
   "outputs": [],
   "source": [
    "import win32gui\n",
    "\n",
    "\n"
   ]
  },
  {
   "cell_type": "code",
   "execution_count": 90,
   "outputs": [],
   "source": [
    "import win32con\n",
    "from PIL import ImageGrab\n",
    "import numpy as np\n",
    "import time\n",
    "import matplotlib.pyplot as plt\n",
    "import cv2\n",
    "import itertools\n",
    "from PIL import ImageChops\n",
    "import win32api\n",
    "%matplotlib inline\n",
    "\n"
   ],
   "metadata": {
    "collapsed": false,
    "pycharm": {
     "name": "#%%\n",
     "is_executing": false
    }
   }
  },
  {
   "cell_type": "code",
   "execution_count": 91,
   "outputs": [],
   "source": [
    "game_hwnd = win32gui.FindWindow(\"#32770\", \"大家来找茬\")\n",
    "win32gui.ShowWindow(game_hwnd, win32con.SW_SHOWNA)\n",
    "\n",
    "game_rect = win32gui.GetWindowRect(game_hwnd)\n",
    "\n",
    "src_image=ImageGrab.grab(game_rect)\n",
    "# src_image.show()\n",
    "\n",
    "left_box = (92, 312, 475, 598)\n",
    "right_box = (512+37, 312, 932, 598)\n",
    "\n",
    "image_left = src_image.crop(left_box)\n",
    "image_right = src_image.crop(right_box)\n",
    "#比较两幅图\n",
    "diff_image = ImageChops.difference(image_left,image_right)\n",
    "\n",
    "diff_image.save('diff.jpg','jpeg')\n",
    "diff_image.show()\n",
    "# img = plt.imread('images/2.png')\n",
    "# img = np.uint8(img*255)\n",
    "# plt.imshow(img)\n"
   ],
   "metadata": {
    "collapsed": false,
    "pycharm": {
     "name": "#%%\n",
     "is_executing": false
    }
   }
  },
  {
   "cell_type": "code",
   "execution_count": 92,
   "outputs": [],
   "source": [
    "img1 = cv2.imread(\"diff.jpg\")\n",
    "img1 = cv2.medianBlur(img1,3)\n",
    "hsv=cv2.cvtColor(img1,cv2.COLOR_BGR2HSV)\n",
    "\n",
    "lower_blue=np.array([0,0,0], dtype=np.uint8)\n",
    "upper_blue=np.array([255,255,30], dtype=np.uint8)\n",
    "mask=cv2.inRange(hsv,lower_blue,upper_blue)"
   ],
   "metadata": {
    "collapsed": false,
    "pycharm": {
     "name": "#%%\n",
     "is_executing": false
    }
   }
  },
  {
   "cell_type": "code",
   "execution_count": 93,
   "outputs": [],
   "source": [
    "# 根据阈值构建掩模\n",
    "kernel = np.ones((1,1),np.uint8)\n",
    "contours, hierarchy = cv2.findContours(mask,cv2.RETR_TREE,cv2.CHAIN_APPROX_SIMPLE)   \n",
    "mask = cv2.morphologyEx(mask, cv2.MORPH_CLOSE, kernel)\n",
    "list_cnt=[]\n",
    "for cnt in contours:\n",
    "    area = cv2.contourArea(cnt)\n",
    "    list_cnt.append({\"area\":area,\"cnt\":cnt})\n",
    "list_cnt.sort(key=lambda obj:obj.get('area'), reverse=True)\n",
    "for i in range(5):\n",
    "    x,y,w,h = cv2.boundingRect(list_cnt[i]['cnt'])\n",
    "    if i < 5:\n",
    "        dst = cv2.rectangle(img1,(x,y),(x+w,y+h),(255,0,0),2)\n",
    "        pos = [int(game_rect[0]+left_box[0]+x+w/2),int(game_rect[1]+left_box[1]+y+h/2)]\n",
    "        win32api.SetCursorPos(pos)\n",
    "        win32api.mouse_event(win32con.MOUSEEVENTF_LEFTDOWN, 0, 0, 0, 0)\n",
    "        win32api.mouse_event(win32con.MOUSEEVENTF_LEFTUP, 0, 0, 0, 0)\n",
    "    else:\n",
    "       dst = cv2.rectangle(img1,(x,y),(x+w,y+h),(0,255,0),2)\n",
    "       \n",
    "    time.sleep(1)"
   ],
   "metadata": {
    "collapsed": false,
    "pycharm": {
     "name": "#%%\n",
     "is_executing": false
    }
   }
  },
  {
   "cell_type": "code",
   "execution_count": 93,
   "outputs": [],
   "source": [
    "\n"
   ],
   "metadata": {
    "collapsed": false,
    "pycharm": {
     "name": "#%%\n",
     "is_executing": false
    }
   }
  }
 ],
 "metadata": {
  "kernelspec": {
   "display_name": "Python 3",
   "language": "python",
   "name": "python3"
  },
  "language_info": {
   "codemirror_mode": {
    "name": "ipython",
    "version": 2
   },
   "file_extension": ".py",
   "mimetype": "text/x-python",
   "name": "python",
   "nbconvert_exporter": "python",
   "pygments_lexer": "ipython2",
   "version": "2.7.6"
  },
  "pycharm": {
   "stem_cell": {
    "cell_type": "raw",
    "source": [],
    "metadata": {
     "collapsed": false
    }
   }
  }
 },
 "nbformat": 4,
 "nbformat_minor": 0
}